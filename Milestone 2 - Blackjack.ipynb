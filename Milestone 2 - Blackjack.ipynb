{
 "cells": [
  {
   "cell_type": "markdown",
   "metadata": {},
   "source": [
    "# A game of Blackjack made with Python. Execute the last cell to play."
   ]
  },
  {
   "cell_type": "code",
   "execution_count": 1,
   "metadata": {
    "collapsed": true
   },
   "outputs": [],
   "source": [
    "## The global variables\n",
    "from IPython.display import clear_output\n",
    "global dealer_deck_value \n",
    "global player_deck_value "
   ]
  },
  {
   "cell_type": "code",
   "execution_count": 2,
   "metadata": {
    "collapsed": true
   },
   "outputs": [],
   "source": [
    "#Defining the player and his bankroll\n",
    "class Player(object):\n",
    "    def __init__(self, name, bankroll =1000):\n",
    "        self.name = name\n",
    "        self.bankroll =  bankroll\n",
    "\n",
    "    def add_bankroll(self,amount):\n",
    "        self.bankroll += amount\n",
    "        \n",
    "    def subtract_bankroll(self,amount):\n",
    "        self.bankroll -= amount"
   ]
  },
  {
   "cell_type": "code",
   "execution_count": 3,
   "metadata": {
    "collapsed": true
   },
   "outputs": [],
   "source": [
    "### to get the players name\n",
    "def get_name():\n",
    "    global playerA\n",
    "    playerA = Player(name='TestName')\n",
    "    playerA_name = raw_input('What is your name?')\n"
   ]
  },
  {
   "cell_type": "code",
   "execution_count": 4,
   "metadata": {
    "collapsed": true
   },
   "outputs": [],
   "source": [
    "### to get the amount you want to bet\n",
    "def place_bet():\n",
    "    print \"You currently have: \",playerA.bankroll\n",
    "    global playerA_amount\n",
    "    playerA_amount = int(10000)\n",
    "    while int(playerA_amount) >= int(playerA.bankroll)+1 : \n",
    "        playerA_amount = int(raw_input('How much do you want to set? Only numbers'))\n",
    "    "
   ]
  },
  {
   "cell_type": "code",
   "execution_count": 5,
   "metadata": {
    "collapsed": true
   },
   "outputs": [],
   "source": [
    "## The Card Deck, required to create the decks after\n",
    "\n",
    "suits = ['hearts', 'diamonds', 'spades', 'clubs']\n",
    "faces = ['2','3','4','5','6','7','8','9','10','Jack','Queen','King','Ace']\n",
    "values = [2,3,4,5,6,7,8,9,10,10,10,10,11]"
   ]
  },
  {
   "cell_type": "code",
   "execution_count": 6,
   "metadata": {
    "collapsed": true
   },
   "outputs": [],
   "source": [
    "## The card deck class of the player\n",
    "\n",
    "import random\n",
    "\n",
    "class Card:\n",
    "    def __init__(self, suit, value, face):\n",
    "        self.suit = suit\n",
    "        self.value = value\n",
    "        self.face = face"
   ]
  },
  {
   "cell_type": "code",
   "execution_count": 7,
   "metadata": {
    "collapsed": true
   },
   "outputs": [],
   "source": [
    "## Showing the card for the dealer\n",
    "\n",
    "def show_first_card():\n",
    "    card3 = random.randint(0, 12)\n",
    "   \n",
    "    dealer_card1 = Card(suit=suits[random.randint(0, 3)], face = faces[card3], value = values[card3])\n",
    "    global dealer_deck_value\n",
    "    dealer_deck_value = (dealer_card1.value) ##The value for the dealer\n",
    "    print 'The dealer has a\"',dealer_card1.face,'of',dealer_card1.suit,'\".' \n",
    "    print 'This is a value of',dealer_deck_value,'.' "
   ]
  },
  {
   "cell_type": "code",
   "execution_count": 8,
   "metadata": {
    "collapsed": true
   },
   "outputs": [],
   "source": [
    "## Dealing the cards for player 1\n",
    "\n",
    "def initial_deal():\n",
    "    card1 = random.randint(0, 12)\n",
    "    card2 = random.randint(0, 12)\n",
    "    global player_deck_value\n",
    "    player_deck_value = 0\n",
    "   \n",
    "    player_card1 = Card(suit=suits[random.randint(0, 3)], face = faces[card1], value = values[card1])\n",
    "    player_card2 = Card(suit=suits[random.randint(0, 3)], face = faces[card2], value = values[card2])\n",
    "    \n",
    "    player_deck_value = (player_card2.value + player_card1.value) ##The value for the player1\n",
    "    print 'You have been given a \"',player_card1.face,' of ',player_card1.suit,'\" and a \"',player_card2.face,'of',player_card2.suit,'\".' \n",
    "    print 'This is a value of',player_deck_value,'.' "
   ]
  },
  {
   "cell_type": "code",
   "execution_count": 9,
   "metadata": {
    "collapsed": true
   },
   "outputs": [],
   "source": [
    "#if the player decised to get another card\n",
    "\n",
    "def additional_card():\n",
    "    card4 = random.randint(0, 12)\n",
    "    player_card3 = Card(suit=suits[random.randint(0, 3)], face = faces[card4], value = values[card4])\n",
    "    global player_deck_value\n",
    "    player_deck_value += player_card3.value\n",
    "    print 'You have been given a \"',player_card3.face,'of',player_card3.suit,'\".'\n",
    "    print 'Your total value is',player_deck_value,'.' "
   ]
  },
  {
   "cell_type": "code",
   "execution_count": 10,
   "metadata": {
    "collapsed": true
   },
   "outputs": [],
   "source": [
    "#if the dealer gets another card. This need to be triggered everytime he is below 17\n",
    "\n",
    "def additional_dealer_card():\n",
    "    card5 = random.randint(0, 12)\n",
    "    dealer_card2 = Card(suit=suits[random.randint(0, 3)], face = faces[card5], value = values[card5])\n",
    "    global dealer_deck_value\n",
    "    dealer_deck_value += dealer_card2.value\n",
    "    print 'The dealer is under 17. He gets a\"',dealer_card2.face,'of',dealer_card2.suit,'\".'\n",
    "    print 'His total value is',dealer_deck_value,'.' "
   ]
  },
  {
   "cell_type": "code",
   "execution_count": 11,
   "metadata": {
    "collapsed": true
   },
   "outputs": [],
   "source": [
    "#Decision if a player is over 21 or not. If true: the player or dealer lost\n",
    "def over_twenty_one():\n",
    "    return player_deck_value >21 or dealer_deck_value >21"
   ]
  },
  {
   "cell_type": "code",
   "execution_count": 12,
   "metadata": {
    "collapsed": true
   },
   "outputs": [],
   "source": [
    "def another_card():\n",
    "    return raw_input(\"Do you want another card? Y or N?\") == 'Y'"
   ]
  },
  {
   "cell_type": "code",
   "execution_count": 13,
   "metadata": {
    "collapsed": true
   },
   "outputs": [],
   "source": [
    "def replay():\n",
    "    print \"You currenly have: ,\",playerA.bankroll\n",
    "    if playerA.bankroll > 0:\n",
    "        return raw_input('Do you want to play again? Enter Y or N: ').lower().startswith('y')\n",
    "    else:\n",
    "        print \"You are out of money. Game over.\"\n",
    "        return False"
   ]
  },
  {
   "cell_type": "code",
   "execution_count": 14,
   "metadata": {
    "collapsed": true
   },
   "outputs": [],
   "source": [
    "def check_balance():\n",
    "    if playerA.bankroll >0:\n",
    "        return True\n",
    "    else:\n",
    "        print \"You are out of money. Game over\"\n",
    "        return False"
   ]
  },
  {
   "cell_type": "code",
   "execution_count": 15,
   "metadata": {},
   "outputs": [
    {
     "name": "stdout",
     "output_type": "stream",
     "text": [
      "You currently have:  1000\n",
      "How much do you want to set? Only numbers1000\n",
      "The dealer has a\" 3 of hearts \".\n",
      "This is a value of 3 .\n",
      "You have been given a \" King  of  clubs \" and a \" 8 of diamonds \".\n",
      "This is a value of 18 .\n",
      "Do you want another card? Y or N?N\n",
      "Dealers turn!\n",
      "The dealer is under 17. He gets a\" 9 of diamonds \".\n",
      "His total value is 12 .\n",
      "The dealer is under 17. He gets a\" Jack of spades \".\n",
      "His total value is 22 .\n",
      "Over 21, you win\n",
      "You currenly have: , 2000\n",
      "Do you want to play again? Enter Y or N: N\n"
     ]
    }
   ],
   "source": [
    "get_name()\n",
    "while True:\n",
    "    game_on = True\n",
    "    while game_on:\n",
    "        clear_output()\n",
    "        global dealer_deck_value\n",
    "        global player_deck_value\n",
    "        dealer_deck_value = 0        \n",
    "        player_deck_value = 0\n",
    "        place_bet()\n",
    "        show_first_card()\n",
    "        initial_deal()\n",
    "        while another_card():\n",
    "            additional_card()\n",
    "            if player_deck_value >= 21:\n",
    "                break\n",
    "        if player_deck_value > 21:\n",
    "            print \"Over 21, you lose\"\n",
    "            playerA.subtract_bankroll(int(playerA_amount))\n",
    "            game_on = False\n",
    "\n",
    "        elif player_deck_value == 21:\n",
    "            print \"Blackjack, you win!\"\n",
    "            playerA.add_bankroll(int(playerA_amount))\n",
    "            game_on = False\n",
    "\n",
    "        else:\n",
    "            print \"Dealers turn!\" \n",
    "            while dealer_deck_value <= 17:\n",
    "                additional_dealer_card()\n",
    "            if dealer_deck_value > 21:\n",
    "                print \"Over 21, you win\"\n",
    "                playerA.add_bankroll(int(playerA_amount))\n",
    "                game_on = False\n",
    "\n",
    "            elif dealer_deck_value == 21:\n",
    "                print \"Dealer has Blackjack, you lose!\"\n",
    "                playerA.subtract_bankroll(int(playerA_amount))\n",
    "                game_on = False\n",
    "\n",
    "            else:\n",
    "                if dealer_deck_value == player_deck_value:\n",
    "                    print \"Draw\"\n",
    "                    game_on = False\n",
    "                elif dealer_deck_value < player_deck_value:\n",
    "                    print \"You win!\"\n",
    "                    playerA.add_bankroll(int(playerA_amount))\n",
    "                    game_on = False\n",
    "                else:\n",
    "                    print \"Dealer wins!\"\n",
    "                    playerA.subtract_bankroll(int(playerA_amount))\n",
    "                    game_on = False\n",
    "\n",
    "    if not replay():\n",
    "        break   \n",
    "        "
   ]
  },
  {
   "cell_type": "code",
   "execution_count": null,
   "metadata": {
    "collapsed": true
   },
   "outputs": [],
   "source": []
  },
  {
   "cell_type": "code",
   "execution_count": null,
   "metadata": {
    "collapsed": true
   },
   "outputs": [],
   "source": []
  },
  {
   "cell_type": "code",
   "execution_count": null,
   "metadata": {
    "collapsed": true
   },
   "outputs": [],
   "source": []
  },
  {
   "cell_type": "code",
   "execution_count": null,
   "metadata": {
    "collapsed": true
   },
   "outputs": [],
   "source": []
  },
  {
   "cell_type": "code",
   "execution_count": null,
   "metadata": {
    "collapsed": true
   },
   "outputs": [],
   "source": []
  },
  {
   "cell_type": "code",
   "execution_count": null,
   "metadata": {
    "collapsed": true
   },
   "outputs": [],
   "source": []
  },
  {
   "cell_type": "code",
   "execution_count": null,
   "metadata": {
    "collapsed": true
   },
   "outputs": [],
   "source": []
  },
  {
   "cell_type": "code",
   "execution_count": null,
   "metadata": {},
   "outputs": [],
   "source": []
  },
  {
   "cell_type": "code",
   "execution_count": null,
   "metadata": {
    "collapsed": true
   },
   "outputs": [],
   "source": []
  }
 ],
 "metadata": {
  "kernelspec": {
   "display_name": "Python 2",
   "language": "python",
   "name": "python2"
  },
  "language_info": {
   "codemirror_mode": {
    "name": "ipython",
    "version": 2
   },
   "file_extension": ".py",
   "mimetype": "text/x-python",
   "name": "python",
   "nbconvert_exporter": "python",
   "pygments_lexer": "ipython2",
   "version": "2.7.13"
  }
 },
 "nbformat": 4,
 "nbformat_minor": 2
}
